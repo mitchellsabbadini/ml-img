{
 "cells": [
  {
   "cell_type": "code",
   "execution_count": null,
   "id": "0eed5aef-fd27-4d0d-8b9a-01429abce39e",
   "metadata": {},
   "outputs": [],
   "source": [
    "!pip install ipywidgets"
   ]
  },
  {
   "cell_type": "code",
   "execution_count": 1,
   "id": "613f9bbd-a22a-41d9-8be5-7385ada4e4a2",
   "metadata": {},
   "outputs": [],
   "source": [
    "import gradio as gr\n",
    "import torch\n",
    "from torch import nn"
   ]
  },
  {
   "cell_type": "code",
   "execution_count": 2,
   "id": "ee352eed-1d15-4c1c-ad9b-9a75fb5c076a",
   "metadata": {},
   "outputs": [
    {
     "data": {
      "text/plain": [
       "Sequential(\n",
       "  (0): Conv2d(1, 32, kernel_size=(3, 3), stride=(1, 1), padding=same)\n",
       "  (1): ReLU()\n",
       "  (2): MaxPool2d(kernel_size=2, stride=2, padding=0, dilation=1, ceil_mode=False)\n",
       "  (3): Conv2d(32, 64, kernel_size=(3, 3), stride=(1, 1), padding=same)\n",
       "  (4): ReLU()\n",
       "  (5): MaxPool2d(kernel_size=2, stride=2, padding=0, dilation=1, ceil_mode=False)\n",
       "  (6): Conv2d(64, 128, kernel_size=(3, 3), stride=(1, 1), padding=same)\n",
       "  (7): ReLU()\n",
       "  (8): MaxPool2d(kernel_size=2, stride=2, padding=0, dilation=1, ceil_mode=False)\n",
       "  (9): Flatten(start_dim=1, end_dim=-1)\n",
       "  (10): Linear(in_features=1152, out_features=256, bias=True)\n",
       "  (11): ReLU()\n",
       "  (12): Linear(in_features=256, out_features=100, bias=True)\n",
       ")"
      ]
     },
     "execution_count": 2,
     "metadata": {},
     "output_type": "execute_result"
    }
   ],
   "source": [
    "model = nn.Sequential(\n",
    "    nn.Conv2d(1, 32, 3, padding='same'),\n",
    "    nn.ReLU(),\n",
    "    nn.MaxPool2d(2),\n",
    "    nn.Conv2d(32, 64, 3, padding='same'),\n",
    "    nn.ReLU(),\n",
    "    nn.MaxPool2d(2),\n",
    "    nn.Conv2d(64, 128, 3, padding='same'),\n",
    "    nn.ReLU(),\n",
    "    nn.MaxPool2d(2),\n",
    "    nn.Flatten(),\n",
    "    nn.Linear(1152, 256),\n",
    "    nn.ReLU(),\n",
    "    nn.Linear(256, 100),\n",
    ")\n",
    "state_dict = torch.load('pytorch_model.bin',    map_location='cpu')\n",
    "model.load_state_dict(state_dict, strict=False)\n",
    "model.eval()"
   ]
  },
  {
   "cell_type": "code",
   "execution_count": 3,
   "id": "8287fb53-b1a7-4d24-a751-0483119f0d5e",
   "metadata": {},
   "outputs": [],
   "source": [
    "from pathlib import Path\n",
    "\n",
    "LABELS = Path('class_names.txt').read_text().splitlines()\n",
    "\n",
    "def predict(img):\n",
    "    x = torch.tensor(img, dtype=torch.float32).unsqueeze(0).unsqueeze(0) / 255.\n",
    "    with torch.no_grad():\n",
    "        out = model(x)\n",
    "    probabilities = torch.nn.functional.softmax(out[0], dim=0)\n",
    "    values, indices = torch.topk(probabilities, 5)\n",
    "    confidences = {LABELS[i]: v.item() for i, v in zip(indices, values)}\n",
    "    return confidences"
   ]
  },
  {
   "cell_type": "code",
   "execution_count": null,
   "id": "96fd31c9-d55f-4fa9-941c-36d33eb224b8",
   "metadata": {},
   "outputs": [],
   "source": [
    "inter = gr.Image(image_mode=\"L\", \n",
    "                 source=\"canvas\", \n",
    "                 shape=(28, 28), \n",
    "                 brush_radius=1,\n",
    "                 invert_colors=True, \n",
    "                 interactive=True\n",
    ")\n",
    "demo = gr.Interface(fn=predict, \n",
    "             inputs=inter,\n",
    "             outputs=\"label\",\n",
    "             live=True).launch()\n",
    "demo.launch(height=\"2000\",\n",
    "           width=\"400%\")"
   ]
  }
 ],
 "metadata": {
  "kernelspec": {
   "display_name": "Python 3 (ipykernel)",
   "language": "python",
   "name": "python3"
  },
  "language_info": {
   "codemirror_mode": {
    "name": "ipython",
    "version": 3
   },
   "file_extension": ".py",
   "mimetype": "text/x-python",
   "name": "python",
   "nbconvert_exporter": "python",
   "pygments_lexer": "ipython3",
   "version": "3.9.11"
  }
 },
 "nbformat": 4,
 "nbformat_minor": 5
}
